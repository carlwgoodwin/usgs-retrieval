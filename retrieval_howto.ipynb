{
 "cells": [
  {
   "cell_type": "markdown",
   "id": "c419c8a2-b5a9-4e13-aaa7-88a00baba9b2",
   "metadata": {},
   "source": [
    "## USGS and EMIT Data Matchup\n",
    "In this notebook we will search the USGS database for a specific state code and paramater code/s to retrieve a list of sites. We will then use the site coordinates to find matching EMIT granules and gather data around the EMIT granules time stamp. "
   ]
  },
  {
   "cell_type": "markdown",
   "id": "41880e8d-fd8d-481b-920d-b82e128e21a9",
   "metadata": {},
   "source": [
    "### 1. Retrieving site codes\n",
    "First import package and utils file"
   ]
  },
  {
   "cell_type": "code",
   "execution_count": 1,
   "id": "39c2238e-8c67-4494-b271-0f1c37c997c3",
   "metadata": {},
   "outputs": [],
   "source": [
    "import dataretrieval.nwis as nwis\n",
    "import geopandas as gpd\n",
    "from shapely.geometry import Point, box, Polygon, MultiPolygon\n",
    "import requests\n",
    "import pandas as pd\n",
    "import datetime as dt\n",
    "import earthaccess\n",
    "from tqdm import tqdm\n",
    "from retrieval_utils import get_param_sites, get_all_site_granules, match_granules"
   ]
  },
  {
   "cell_type": "markdown",
   "id": "f44a4fe3-664c-4113-b3f4-bc1b76688093",
   "metadata": {},
   "source": [
    "Next we can find active parameters using the USGS website, for a separate guide on this there is a PDF called \"Get param codes\" in the Github. \n",
    "\n",
    "Then we can define the time-frame, state code and paramater codes and call the function. Note: all three are required for the function to work. "
   ]
  },
  {
   "cell_type": "code",
   "execution_count": 2,
   "id": "6a4374ff-c5bc-4c75-aa8b-24bd2e4155c1",
   "metadata": {
    "is_executing": true
   },
   "outputs": [
    {
     "name": "stdout",
     "output_type": "stream",
     "text": [
      "42 sites found for param codes\n",
      "    site_no                              station_nm   dec_lat_va   dec_long_va\n",
      "0  11273400  SAN JOAQUIN R AB MERCED R NR NEWMAN CA   37.3472151  -120.9761777\n",
      "1  11336600     DELTA CROSS CHANNEL NR WALNUT GROVE   38.2447222  -121.5052778\n",
      "2  11447650              SACRAMENTO R A FREEPORT CA  38.45566389  -121.5016167\n",
      "3  11447890  SACRAMENTO R AB DELTA CROSS CHANNEL CA  38.25769218  -121.5182865\n",
      "4  11448750              SF SCOTTS C NR LAKEPORT CA  39.04027778  -122.9833056\n"
     ]
    }
   ],
   "source": [
    "param_codes = ['32315'] # chla fluorescence\n",
    "param_codes_str = ','.join(param_codes) \n",
    "state_code = '06' # california\n",
    "start_date = '2023-01-01'\n",
    "end_date = '2023-12-31'\n",
    "\n",
    "site_list = get_param_sites(param_codes_str, state_code, start_date, end_date)\n",
    "print(site_list.head())"
   ]
  },
  {
   "cell_type": "markdown",
   "id": "522c9974-5a14-43c6-af9a-8ec0e73cfe5e",
   "metadata": {},
   "source": [
    "### 2. Retrieving granules based on site locations\n",
    "Now we have the site list we can use coordinates to search for matching granules. \n",
    "\n",
    "Next setup the granule search and call the function."
   ]
  },
  {
   "cell_type": "code",
   "execution_count": 3,
   "id": "9b617233-065f-485d-9a31-270b87e82e4b",
   "metadata": {},
   "outputs": [
    {
     "name": "stderr",
     "output_type": "stream",
     "text": [
      "Processing sites: 100%|███████████████████████████| 5/5 [00:04<00:00,  1.11it/s]"
     ]
    },
    {
     "name": "stdout",
     "output_type": "stream",
     "text": [
      "    site_no                              station_nm    site_lat      site_lon  \\\n",
      "0  11273400  SAN JOAQUIN R AB MERCED R NR NEWMAN CA  37.3472151  -120.9761777   \n",
      "1  11273400  SAN JOAQUIN R AB MERCED R NR NEWMAN CA  37.3472151  -120.9761777   \n",
      "2  11273400  SAN JOAQUIN R AB MERCED R NR NEWMAN CA  37.3472151  -120.9761777   \n",
      "3  11273400  SAN JOAQUIN R AB MERCED R NR NEWMAN CA  37.3472151  -120.9761777   \n",
      "4  11273400  SAN JOAQUIN R AB MERCED R NR NEWMAN CA  37.3472151  -120.9761777   \n",
      "\n",
      "                                        granule_urls                  datetime  \n",
      "0  [https://data.lpdaac.earthdatacloud.nasa.gov/l...  2023-06-04T19:37:03.000Z  \n",
      "1  [https://data.lpdaac.earthdatacloud.nasa.gov/l...  2023-08-14T22:35:05.000Z  \n",
      "2  [https://data.lpdaac.earthdatacloud.nasa.gov/l...  2023-08-18T21:00:31.000Z  \n",
      "3  [https://data.lpdaac.earthdatacloud.nasa.gov/l...  2023-08-22T19:25:31.000Z  \n",
      "4  [https://data.lpdaac.earthdatacloud.nasa.gov/l...  2023-08-22T19:25:43.000Z  \n"
     ]
    },
    {
     "name": "stderr",
     "output_type": "stream",
     "text": [
      "\n"
     ]
    }
   ],
   "source": [
    "start_date_dt = dt.datetime.strptime(start_date, '%Y-%m-%d')\n",
    "end_date_dt = dt.datetime.strptime(end_date, '%Y-%m-%d')\n",
    "dt_format = '%Y-%m-%dT%H:%M:%SZ'\n",
    "temporal_str = start_date_dt.strftime(dt_format) + ',' + end_date_dt.strftime(dt_format)\n",
    "\n",
    "\n",
    "site_granules = get_all_site_granules(site_list.head(), temporal_str)\n",
    "df_granules = pd.DataFrame(site_granules)\n",
    "print(df_granules.head())"
   ]
  },
  {
   "cell_type": "markdown",
   "id": "93c35179-6c90-422d-bdfb-ab5b5dcf0020",
   "metadata": {},
   "source": [
    "### 3. Collecting and matching data base on granule times\n",
    "\n",
    "Next we can use the granule times and locations to collect and match the USGS data. \n",
    "The function will match, with each granule, the closest data time within the time window. \n",
    "\n",
    "Call the function and optionally store as a csv file. "
   ]
  },
  {
   "cell_type": "code",
   "execution_count": 4,
   "id": "5295e8ec-479e-4f65-b500-0c72edaafd43",
   "metadata": {},
   "outputs": [
    {
     "name": "stderr",
     "output_type": "stream",
     "text": [
      "Processing granules: 100%|████████████████████████| 5/5 [00:02<00:00,  2.03it/s]"
     ]
    },
    {
     "name": "stdout",
     "output_type": "stream",
     "text": [
      "    site_no                              station_nm    site_lat      site_lon  \\\n",
      "0  11273400  SAN JOAQUIN R AB MERCED R NR NEWMAN CA  37.3472151  -120.9761777   \n",
      "1  11273400  SAN JOAQUIN R AB MERCED R NR NEWMAN CA  37.3472151  -120.9761777   \n",
      "2  11273400  SAN JOAQUIN R AB MERCED R NR NEWMAN CA  37.3472151  -120.9761777   \n",
      "3  11273400  SAN JOAQUIN R AB MERCED R NR NEWMAN CA  37.3472151  -120.9761777   \n",
      "4  11273400  SAN JOAQUIN R AB MERCED R NR NEWMAN CA  37.3472151  -120.9761777   \n",
      "\n",
      "               granule_time  \\\n",
      "0 2023-06-04 19:37:03+00:00   \n",
      "1 2023-08-14 22:35:05+00:00   \n",
      "2 2023-08-18 21:00:31+00:00   \n",
      "3 2023-08-22 19:25:31+00:00   \n",
      "4 2023-08-22 19:25:43+00:00   \n",
      "\n",
      "                                        granule_urls result result_unit  \\\n",
      "0  [https://data.lpdaac.earthdatacloud.nasa.gov/l...   2.43         RFU   \n",
      "1  [https://data.lpdaac.earthdatacloud.nasa.gov/l...   8.93         RFU   \n",
      "2  [https://data.lpdaac.earthdatacloud.nasa.gov/l...   9.92         RFU   \n",
      "3  [https://data.lpdaac.earthdatacloud.nasa.gov/l...   6.90         RFU   \n",
      "4  [https://data.lpdaac.earthdatacloud.nasa.gov/l...   6.90         RFU   \n",
      "\n",
      "                     result_time  \n",
      "0  2023-06-04T12:30:00.000-07:00  \n",
      "1  2023-08-14T15:30:00.000-07:00  \n",
      "2  2023-08-18T14:00:00.000-07:00  \n",
      "3  2023-08-22T12:30:00.000-07:00  \n",
      "4  2023-08-22T12:30:00.000-07:00  \n"
     ]
    },
    {
     "name": "stderr",
     "output_type": "stream",
     "text": [
      "\n"
     ]
    }
   ],
   "source": [
    "results = match_granules(df_granules.head(), param_codes)\n",
    "print(results.head())\n",
    "#results.to_csv('results.csv', index=False)"
   ]
  },
  {
   "cell_type": "code",
   "execution_count": null,
   "id": "b5146bdc-fdb8-4ce3-841a-83abcc2a745b",
   "metadata": {},
   "outputs": [],
   "source": []
  }
 ],
 "metadata": {
  "kernelspec": {
   "display_name": "Python 3 (ipykernel)",
   "language": "python",
   "name": "python3"
  },
  "language_info": {
   "codemirror_mode": {
    "name": "ipython",
    "version": 3
   },
   "file_extension": ".py",
   "mimetype": "text/x-python",
   "name": "python",
   "nbconvert_exporter": "python",
   "pygments_lexer": "ipython3",
   "version": "3.10.14"
  }
 },
 "nbformat": 4,
 "nbformat_minor": 5
}
