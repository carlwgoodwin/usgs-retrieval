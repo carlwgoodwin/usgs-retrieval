{
 "cells": [
  {
   "cell_type": "markdown",
   "id": "c419c8a2-b5a9-4e13-aaa7-88a00baba9b2",
   "metadata": {},
   "source": [
    "## USGS and EMIT Data Matchup\n",
    "In this notebook we will search the USGS database for a specific state code and paramater code/s to retrieve a list of sites. We will then use the site coordinates to find matching EMIT granules and gather data around the EMIT granules time stamp. "
   ]
  },
  {
   "cell_type": "markdown",
   "id": "41880e8d-fd8d-481b-920d-b82e128e21a9",
   "metadata": {},
   "source": [
    "### 1. Retrieving site codes\n",
    "First import package and utils file"
   ]
  },
  {
   "cell_type": "code",
   "execution_count": 2,
   "id": "39c2238e-8c67-4494-b271-0f1c37c997c3",
   "metadata": {},
   "outputs": [],
   "source": [
    "import dataretrieval.nwis as nwis\n",
    "import geopandas as gpd\n",
    "from shapely.geometry import Point, box, Polygon, MultiPolygon\n",
    "import requests\n",
    "import pandas as pd\n",
    "import datetime as dt\n",
    "import earthaccess\n",
    "from tqdm import tqdm\n",
    "import sys\n",
    "sys.path.append('modules/')\n",
    "from retrieval_utils import get_param_sites, get_all_site_granules, match_granules"
   ]
  },
  {
   "cell_type": "markdown",
   "id": "f44a4fe3-664c-4113-b3f4-bc1b76688093",
   "metadata": {},
   "source": [
    "Next we can find active parameters using the USGS website, for a separate guide on this there is a PDF called \"Get param codes\" in the Github. \n",
    "\n",
    "Then we can define the time-frame, state code and paramater codes and call the function. Note: all three are required for the function to work. "
   ]
  },
  {
   "cell_type": "code",
   "execution_count": 8,
   "id": "6a4374ff-c5bc-4c75-aa8b-24bd2e4155c1",
   "metadata": {
    "is_executing": true
   },
   "outputs": [
    {
     "name": "stderr",
     "output_type": "stream",
     "text": [
      "Processing sites:  48%|████████████             | 27/56 [01:00<01:05,  2.25s/it]\n"
     ]
    },
    {
     "ename": "KeyboardInterrupt",
     "evalue": "",
     "output_type": "error",
     "traceback": [
      "\u001b[0;31m---------------------------------------------------------------------------\u001b[0m",
      "\u001b[0;31mKeyboardInterrupt\u001b[0m                         Traceback (most recent call last)",
      "Cell \u001b[0;32mIn[8], line 6\u001b[0m\n\u001b[1;32m      4\u001b[0m state_codes \u001b[38;5;241m=\u001b[39m [\u001b[38;5;124mf\u001b[39m\u001b[38;5;124m\"\u001b[39m\u001b[38;5;132;01m{\u001b[39;00mi\u001b[38;5;132;01m:\u001b[39;00m\u001b[38;5;124m02d\u001b[39m\u001b[38;5;132;01m}\u001b[39;00m\u001b[38;5;124m\"\u001b[39m \u001b[38;5;28;01mfor\u001b[39;00m i \u001b[38;5;129;01min\u001b[39;00m \u001b[38;5;28mrange\u001b[39m(\u001b[38;5;241m1\u001b[39m, \u001b[38;5;241m57\u001b[39m)]\n\u001b[1;32m      5\u001b[0m site_types \u001b[38;5;241m=\u001b[39m [\u001b[38;5;124m'\u001b[39m\u001b[38;5;124mLK\u001b[39m\u001b[38;5;124m'\u001b[39m, \u001b[38;5;124m'\u001b[39m\u001b[38;5;124mES\u001b[39m\u001b[38;5;124m'\u001b[39m] \u001b[38;5;66;03m# lakes, estruaries\u001b[39;00m\n\u001b[0;32m----> 6\u001b[0m site_list \u001b[38;5;241m=\u001b[39m \u001b[43mget_param_sites\u001b[49m\u001b[43m(\u001b[49m\u001b[43mparam_codes_str\u001b[49m\u001b[43m,\u001b[49m\u001b[43m \u001b[49m\u001b[43mstate_codes\u001b[49m\u001b[43m,\u001b[49m\u001b[43m \u001b[49m\u001b[43msite_types\u001b[49m\u001b[43m)\u001b[49m\n\u001b[1;32m      8\u001b[0m \u001b[38;5;28mprint\u001b[39m(site_list\u001b[38;5;241m.\u001b[39mhead())\n",
      "File \u001b[0;32m~/Projects/emit/usgs-retrieval/modules/retrieval_utils.py:11\u001b[0m, in \u001b[0;36mget_param_sites\u001b[0;34m(param_codes_str, state_codes, site_types)\u001b[0m\n\u001b[1;32m      9\u001b[0m \u001b[38;5;28;01mfor\u001b[39;00m state_code \u001b[38;5;129;01min\u001b[39;00m state_codes:\n\u001b[1;32m     10\u001b[0m     url \u001b[38;5;241m=\u001b[39m \u001b[38;5;124mf\u001b[39m\u001b[38;5;124m\"\u001b[39m\u001b[38;5;124mhttps://waterservices.usgs.gov/nwis/site/?format=rdb&stateCd=\u001b[39m\u001b[38;5;132;01m{\u001b[39;00mstate_code\u001b[38;5;132;01m}\u001b[39;00m\u001b[38;5;124m&parameterCd=\u001b[39m\u001b[38;5;132;01m{\u001b[39;00mparam_codes_str\u001b[38;5;132;01m}\u001b[39;00m\u001b[38;5;124m\"\u001b[39m\n\u001b[0;32m---> 11\u001b[0m     response \u001b[38;5;241m=\u001b[39m \u001b[43mrequests\u001b[49m\u001b[38;5;241;43m.\u001b[39;49m\u001b[43mget\u001b[49m\u001b[43m(\u001b[49m\u001b[43murl\u001b[49m\u001b[43m)\u001b[49m\n\u001b[1;32m     13\u001b[0m     \u001b[38;5;28;01mif\u001b[39;00m response\u001b[38;5;241m.\u001b[39mstatus_code \u001b[38;5;241m==\u001b[39m \u001b[38;5;241m200\u001b[39m:\n\u001b[1;32m     14\u001b[0m         lines \u001b[38;5;241m=\u001b[39m response\u001b[38;5;241m.\u001b[39mtext\u001b[38;5;241m.\u001b[39msplitlines()\n",
      "File \u001b[0;32m~/miniforge3/envs/emit/lib/python3.10/site-packages/requests/api.py:73\u001b[0m, in \u001b[0;36mget\u001b[0;34m(url, params, **kwargs)\u001b[0m\n\u001b[1;32m     62\u001b[0m \u001b[38;5;28;01mdef\u001b[39;00m \u001b[38;5;21mget\u001b[39m(url, params\u001b[38;5;241m=\u001b[39m\u001b[38;5;28;01mNone\u001b[39;00m, \u001b[38;5;241m*\u001b[39m\u001b[38;5;241m*\u001b[39mkwargs):\n\u001b[1;32m     63\u001b[0m \u001b[38;5;250m    \u001b[39m\u001b[38;5;124mr\u001b[39m\u001b[38;5;124;03m\"\"\"Sends a GET request.\u001b[39;00m\n\u001b[1;32m     64\u001b[0m \n\u001b[1;32m     65\u001b[0m \u001b[38;5;124;03m    :param url: URL for the new :class:`Request` object.\u001b[39;00m\n\u001b[0;32m   (...)\u001b[0m\n\u001b[1;32m     70\u001b[0m \u001b[38;5;124;03m    :rtype: requests.Response\u001b[39;00m\n\u001b[1;32m     71\u001b[0m \u001b[38;5;124;03m    \"\"\"\u001b[39;00m\n\u001b[0;32m---> 73\u001b[0m     \u001b[38;5;28;01mreturn\u001b[39;00m \u001b[43mrequest\u001b[49m\u001b[43m(\u001b[49m\u001b[38;5;124;43m\"\u001b[39;49m\u001b[38;5;124;43mget\u001b[39;49m\u001b[38;5;124;43m\"\u001b[39;49m\u001b[43m,\u001b[49m\u001b[43m \u001b[49m\u001b[43murl\u001b[49m\u001b[43m,\u001b[49m\u001b[43m \u001b[49m\u001b[43mparams\u001b[49m\u001b[38;5;241;43m=\u001b[39;49m\u001b[43mparams\u001b[49m\u001b[43m,\u001b[49m\u001b[43m \u001b[49m\u001b[38;5;241;43m*\u001b[39;49m\u001b[38;5;241;43m*\u001b[39;49m\u001b[43mkwargs\u001b[49m\u001b[43m)\u001b[49m\n",
      "File \u001b[0;32m~/miniforge3/envs/emit/lib/python3.10/site-packages/requests/api.py:59\u001b[0m, in \u001b[0;36mrequest\u001b[0;34m(method, url, **kwargs)\u001b[0m\n\u001b[1;32m     55\u001b[0m \u001b[38;5;66;03m# By using the 'with' statement we are sure the session is closed, thus we\u001b[39;00m\n\u001b[1;32m     56\u001b[0m \u001b[38;5;66;03m# avoid leaving sockets open which can trigger a ResourceWarning in some\u001b[39;00m\n\u001b[1;32m     57\u001b[0m \u001b[38;5;66;03m# cases, and look like a memory leak in others.\u001b[39;00m\n\u001b[1;32m     58\u001b[0m \u001b[38;5;28;01mwith\u001b[39;00m sessions\u001b[38;5;241m.\u001b[39mSession() \u001b[38;5;28;01mas\u001b[39;00m session:\n\u001b[0;32m---> 59\u001b[0m     \u001b[38;5;28;01mreturn\u001b[39;00m \u001b[43msession\u001b[49m\u001b[38;5;241;43m.\u001b[39;49m\u001b[43mrequest\u001b[49m\u001b[43m(\u001b[49m\u001b[43mmethod\u001b[49m\u001b[38;5;241;43m=\u001b[39;49m\u001b[43mmethod\u001b[49m\u001b[43m,\u001b[49m\u001b[43m \u001b[49m\u001b[43murl\u001b[49m\u001b[38;5;241;43m=\u001b[39;49m\u001b[43murl\u001b[49m\u001b[43m,\u001b[49m\u001b[43m \u001b[49m\u001b[38;5;241;43m*\u001b[39;49m\u001b[38;5;241;43m*\u001b[39;49m\u001b[43mkwargs\u001b[49m\u001b[43m)\u001b[49m\n",
      "File \u001b[0;32m~/miniforge3/envs/emit/lib/python3.10/site-packages/requests/sessions.py:589\u001b[0m, in \u001b[0;36mSession.request\u001b[0;34m(self, method, url, params, data, headers, cookies, files, auth, timeout, allow_redirects, proxies, hooks, stream, verify, cert, json)\u001b[0m\n\u001b[1;32m    584\u001b[0m send_kwargs \u001b[38;5;241m=\u001b[39m {\n\u001b[1;32m    585\u001b[0m     \u001b[38;5;124m\"\u001b[39m\u001b[38;5;124mtimeout\u001b[39m\u001b[38;5;124m\"\u001b[39m: timeout,\n\u001b[1;32m    586\u001b[0m     \u001b[38;5;124m\"\u001b[39m\u001b[38;5;124mallow_redirects\u001b[39m\u001b[38;5;124m\"\u001b[39m: allow_redirects,\n\u001b[1;32m    587\u001b[0m }\n\u001b[1;32m    588\u001b[0m send_kwargs\u001b[38;5;241m.\u001b[39mupdate(settings)\n\u001b[0;32m--> 589\u001b[0m resp \u001b[38;5;241m=\u001b[39m \u001b[38;5;28;43mself\u001b[39;49m\u001b[38;5;241;43m.\u001b[39;49m\u001b[43msend\u001b[49m\u001b[43m(\u001b[49m\u001b[43mprep\u001b[49m\u001b[43m,\u001b[49m\u001b[43m \u001b[49m\u001b[38;5;241;43m*\u001b[39;49m\u001b[38;5;241;43m*\u001b[39;49m\u001b[43msend_kwargs\u001b[49m\u001b[43m)\u001b[49m\n\u001b[1;32m    591\u001b[0m \u001b[38;5;28;01mreturn\u001b[39;00m resp\n",
      "File \u001b[0;32m~/miniforge3/envs/emit/lib/python3.10/site-packages/requests/sessions.py:703\u001b[0m, in \u001b[0;36mSession.send\u001b[0;34m(self, request, **kwargs)\u001b[0m\n\u001b[1;32m    700\u001b[0m start \u001b[38;5;241m=\u001b[39m preferred_clock()\n\u001b[1;32m    702\u001b[0m \u001b[38;5;66;03m# Send the request\u001b[39;00m\n\u001b[0;32m--> 703\u001b[0m r \u001b[38;5;241m=\u001b[39m \u001b[43madapter\u001b[49m\u001b[38;5;241;43m.\u001b[39;49m\u001b[43msend\u001b[49m\u001b[43m(\u001b[49m\u001b[43mrequest\u001b[49m\u001b[43m,\u001b[49m\u001b[43m \u001b[49m\u001b[38;5;241;43m*\u001b[39;49m\u001b[38;5;241;43m*\u001b[39;49m\u001b[43mkwargs\u001b[49m\u001b[43m)\u001b[49m\n\u001b[1;32m    705\u001b[0m \u001b[38;5;66;03m# Total elapsed time of the request (approximately)\u001b[39;00m\n\u001b[1;32m    706\u001b[0m elapsed \u001b[38;5;241m=\u001b[39m preferred_clock() \u001b[38;5;241m-\u001b[39m start\n",
      "File \u001b[0;32m~/miniforge3/envs/emit/lib/python3.10/site-packages/requests/adapters.py:667\u001b[0m, in \u001b[0;36mHTTPAdapter.send\u001b[0;34m(self, request, stream, timeout, verify, cert, proxies)\u001b[0m\n\u001b[1;32m    664\u001b[0m     timeout \u001b[38;5;241m=\u001b[39m TimeoutSauce(connect\u001b[38;5;241m=\u001b[39mtimeout, read\u001b[38;5;241m=\u001b[39mtimeout)\n\u001b[1;32m    666\u001b[0m \u001b[38;5;28;01mtry\u001b[39;00m:\n\u001b[0;32m--> 667\u001b[0m     resp \u001b[38;5;241m=\u001b[39m \u001b[43mconn\u001b[49m\u001b[38;5;241;43m.\u001b[39;49m\u001b[43murlopen\u001b[49m\u001b[43m(\u001b[49m\n\u001b[1;32m    668\u001b[0m \u001b[43m        \u001b[49m\u001b[43mmethod\u001b[49m\u001b[38;5;241;43m=\u001b[39;49m\u001b[43mrequest\u001b[49m\u001b[38;5;241;43m.\u001b[39;49m\u001b[43mmethod\u001b[49m\u001b[43m,\u001b[49m\n\u001b[1;32m    669\u001b[0m \u001b[43m        \u001b[49m\u001b[43murl\u001b[49m\u001b[38;5;241;43m=\u001b[39;49m\u001b[43murl\u001b[49m\u001b[43m,\u001b[49m\n\u001b[1;32m    670\u001b[0m \u001b[43m        \u001b[49m\u001b[43mbody\u001b[49m\u001b[38;5;241;43m=\u001b[39;49m\u001b[43mrequest\u001b[49m\u001b[38;5;241;43m.\u001b[39;49m\u001b[43mbody\u001b[49m\u001b[43m,\u001b[49m\n\u001b[1;32m    671\u001b[0m \u001b[43m        \u001b[49m\u001b[43mheaders\u001b[49m\u001b[38;5;241;43m=\u001b[39;49m\u001b[43mrequest\u001b[49m\u001b[38;5;241;43m.\u001b[39;49m\u001b[43mheaders\u001b[49m\u001b[43m,\u001b[49m\n\u001b[1;32m    672\u001b[0m \u001b[43m        \u001b[49m\u001b[43mredirect\u001b[49m\u001b[38;5;241;43m=\u001b[39;49m\u001b[38;5;28;43;01mFalse\u001b[39;49;00m\u001b[43m,\u001b[49m\n\u001b[1;32m    673\u001b[0m \u001b[43m        \u001b[49m\u001b[43massert_same_host\u001b[49m\u001b[38;5;241;43m=\u001b[39;49m\u001b[38;5;28;43;01mFalse\u001b[39;49;00m\u001b[43m,\u001b[49m\n\u001b[1;32m    674\u001b[0m \u001b[43m        \u001b[49m\u001b[43mpreload_content\u001b[49m\u001b[38;5;241;43m=\u001b[39;49m\u001b[38;5;28;43;01mFalse\u001b[39;49;00m\u001b[43m,\u001b[49m\n\u001b[1;32m    675\u001b[0m \u001b[43m        \u001b[49m\u001b[43mdecode_content\u001b[49m\u001b[38;5;241;43m=\u001b[39;49m\u001b[38;5;28;43;01mFalse\u001b[39;49;00m\u001b[43m,\u001b[49m\n\u001b[1;32m    676\u001b[0m \u001b[43m        \u001b[49m\u001b[43mretries\u001b[49m\u001b[38;5;241;43m=\u001b[39;49m\u001b[38;5;28;43mself\u001b[39;49m\u001b[38;5;241;43m.\u001b[39;49m\u001b[43mmax_retries\u001b[49m\u001b[43m,\u001b[49m\n\u001b[1;32m    677\u001b[0m \u001b[43m        \u001b[49m\u001b[43mtimeout\u001b[49m\u001b[38;5;241;43m=\u001b[39;49m\u001b[43mtimeout\u001b[49m\u001b[43m,\u001b[49m\n\u001b[1;32m    678\u001b[0m \u001b[43m        \u001b[49m\u001b[43mchunked\u001b[49m\u001b[38;5;241;43m=\u001b[39;49m\u001b[43mchunked\u001b[49m\u001b[43m,\u001b[49m\n\u001b[1;32m    679\u001b[0m \u001b[43m    \u001b[49m\u001b[43m)\u001b[49m\n\u001b[1;32m    681\u001b[0m \u001b[38;5;28;01mexcept\u001b[39;00m (ProtocolError, \u001b[38;5;167;01mOSError\u001b[39;00m) \u001b[38;5;28;01mas\u001b[39;00m err:\n\u001b[1;32m    682\u001b[0m     \u001b[38;5;28;01mraise\u001b[39;00m \u001b[38;5;167;01mConnectionError\u001b[39;00m(err, request\u001b[38;5;241m=\u001b[39mrequest)\n",
      "File \u001b[0;32m~/miniforge3/envs/emit/lib/python3.10/site-packages/urllib3/connectionpool.py:789\u001b[0m, in \u001b[0;36mHTTPConnectionPool.urlopen\u001b[0;34m(self, method, url, body, headers, retries, redirect, assert_same_host, timeout, pool_timeout, release_conn, chunked, body_pos, preload_content, decode_content, **response_kw)\u001b[0m\n\u001b[1;32m    786\u001b[0m response_conn \u001b[38;5;241m=\u001b[39m conn \u001b[38;5;28;01mif\u001b[39;00m \u001b[38;5;129;01mnot\u001b[39;00m release_conn \u001b[38;5;28;01melse\u001b[39;00m \u001b[38;5;28;01mNone\u001b[39;00m\n\u001b[1;32m    788\u001b[0m \u001b[38;5;66;03m# Make the request on the HTTPConnection object\u001b[39;00m\n\u001b[0;32m--> 789\u001b[0m response \u001b[38;5;241m=\u001b[39m \u001b[38;5;28;43mself\u001b[39;49m\u001b[38;5;241;43m.\u001b[39;49m\u001b[43m_make_request\u001b[49m\u001b[43m(\u001b[49m\n\u001b[1;32m    790\u001b[0m \u001b[43m    \u001b[49m\u001b[43mconn\u001b[49m\u001b[43m,\u001b[49m\n\u001b[1;32m    791\u001b[0m \u001b[43m    \u001b[49m\u001b[43mmethod\u001b[49m\u001b[43m,\u001b[49m\n\u001b[1;32m    792\u001b[0m \u001b[43m    \u001b[49m\u001b[43murl\u001b[49m\u001b[43m,\u001b[49m\n\u001b[1;32m    793\u001b[0m \u001b[43m    \u001b[49m\u001b[43mtimeout\u001b[49m\u001b[38;5;241;43m=\u001b[39;49m\u001b[43mtimeout_obj\u001b[49m\u001b[43m,\u001b[49m\n\u001b[1;32m    794\u001b[0m \u001b[43m    \u001b[49m\u001b[43mbody\u001b[49m\u001b[38;5;241;43m=\u001b[39;49m\u001b[43mbody\u001b[49m\u001b[43m,\u001b[49m\n\u001b[1;32m    795\u001b[0m \u001b[43m    \u001b[49m\u001b[43mheaders\u001b[49m\u001b[38;5;241;43m=\u001b[39;49m\u001b[43mheaders\u001b[49m\u001b[43m,\u001b[49m\n\u001b[1;32m    796\u001b[0m \u001b[43m    \u001b[49m\u001b[43mchunked\u001b[49m\u001b[38;5;241;43m=\u001b[39;49m\u001b[43mchunked\u001b[49m\u001b[43m,\u001b[49m\n\u001b[1;32m    797\u001b[0m \u001b[43m    \u001b[49m\u001b[43mretries\u001b[49m\u001b[38;5;241;43m=\u001b[39;49m\u001b[43mretries\u001b[49m\u001b[43m,\u001b[49m\n\u001b[1;32m    798\u001b[0m \u001b[43m    \u001b[49m\u001b[43mresponse_conn\u001b[49m\u001b[38;5;241;43m=\u001b[39;49m\u001b[43mresponse_conn\u001b[49m\u001b[43m,\u001b[49m\n\u001b[1;32m    799\u001b[0m \u001b[43m    \u001b[49m\u001b[43mpreload_content\u001b[49m\u001b[38;5;241;43m=\u001b[39;49m\u001b[43mpreload_content\u001b[49m\u001b[43m,\u001b[49m\n\u001b[1;32m    800\u001b[0m \u001b[43m    \u001b[49m\u001b[43mdecode_content\u001b[49m\u001b[38;5;241;43m=\u001b[39;49m\u001b[43mdecode_content\u001b[49m\u001b[43m,\u001b[49m\n\u001b[1;32m    801\u001b[0m \u001b[43m    \u001b[49m\u001b[38;5;241;43m*\u001b[39;49m\u001b[38;5;241;43m*\u001b[39;49m\u001b[43mresponse_kw\u001b[49m\u001b[43m,\u001b[49m\n\u001b[1;32m    802\u001b[0m \u001b[43m\u001b[49m\u001b[43m)\u001b[49m\n\u001b[1;32m    804\u001b[0m \u001b[38;5;66;03m# Everything went great!\u001b[39;00m\n\u001b[1;32m    805\u001b[0m clean_exit \u001b[38;5;241m=\u001b[39m \u001b[38;5;28;01mTrue\u001b[39;00m\n",
      "File \u001b[0;32m~/miniforge3/envs/emit/lib/python3.10/site-packages/urllib3/connectionpool.py:536\u001b[0m, in \u001b[0;36mHTTPConnectionPool._make_request\u001b[0;34m(self, conn, method, url, body, headers, retries, timeout, chunked, response_conn, preload_content, decode_content, enforce_content_length)\u001b[0m\n\u001b[1;32m    534\u001b[0m \u001b[38;5;66;03m# Receive the response from the server\u001b[39;00m\n\u001b[1;32m    535\u001b[0m \u001b[38;5;28;01mtry\u001b[39;00m:\n\u001b[0;32m--> 536\u001b[0m     response \u001b[38;5;241m=\u001b[39m \u001b[43mconn\u001b[49m\u001b[38;5;241;43m.\u001b[39;49m\u001b[43mgetresponse\u001b[49m\u001b[43m(\u001b[49m\u001b[43m)\u001b[49m\n\u001b[1;32m    537\u001b[0m \u001b[38;5;28;01mexcept\u001b[39;00m (BaseSSLError, \u001b[38;5;167;01mOSError\u001b[39;00m) \u001b[38;5;28;01mas\u001b[39;00m e:\n\u001b[1;32m    538\u001b[0m     \u001b[38;5;28mself\u001b[39m\u001b[38;5;241m.\u001b[39m_raise_timeout(err\u001b[38;5;241m=\u001b[39me, url\u001b[38;5;241m=\u001b[39murl, timeout_value\u001b[38;5;241m=\u001b[39mread_timeout)\n",
      "File \u001b[0;32m~/miniforge3/envs/emit/lib/python3.10/site-packages/urllib3/connection.py:464\u001b[0m, in \u001b[0;36mHTTPConnection.getresponse\u001b[0;34m(self)\u001b[0m\n\u001b[1;32m    461\u001b[0m \u001b[38;5;28;01mfrom\u001b[39;00m \u001b[38;5;21;01m.\u001b[39;00m\u001b[38;5;21;01mresponse\u001b[39;00m \u001b[38;5;28;01mimport\u001b[39;00m HTTPResponse\n\u001b[1;32m    463\u001b[0m \u001b[38;5;66;03m# Get the response from http.client.HTTPConnection\u001b[39;00m\n\u001b[0;32m--> 464\u001b[0m httplib_response \u001b[38;5;241m=\u001b[39m \u001b[38;5;28;43msuper\u001b[39;49m\u001b[43m(\u001b[49m\u001b[43m)\u001b[49m\u001b[38;5;241;43m.\u001b[39;49m\u001b[43mgetresponse\u001b[49m\u001b[43m(\u001b[49m\u001b[43m)\u001b[49m\n\u001b[1;32m    466\u001b[0m \u001b[38;5;28;01mtry\u001b[39;00m:\n\u001b[1;32m    467\u001b[0m     assert_header_parsing(httplib_response\u001b[38;5;241m.\u001b[39mmsg)\n",
      "File \u001b[0;32m~/miniforge3/envs/emit/lib/python3.10/http/client.py:1375\u001b[0m, in \u001b[0;36mHTTPConnection.getresponse\u001b[0;34m(self)\u001b[0m\n\u001b[1;32m   1373\u001b[0m \u001b[38;5;28;01mtry\u001b[39;00m:\n\u001b[1;32m   1374\u001b[0m     \u001b[38;5;28;01mtry\u001b[39;00m:\n\u001b[0;32m-> 1375\u001b[0m         \u001b[43mresponse\u001b[49m\u001b[38;5;241;43m.\u001b[39;49m\u001b[43mbegin\u001b[49m\u001b[43m(\u001b[49m\u001b[43m)\u001b[49m\n\u001b[1;32m   1376\u001b[0m     \u001b[38;5;28;01mexcept\u001b[39;00m \u001b[38;5;167;01mConnectionError\u001b[39;00m:\n\u001b[1;32m   1377\u001b[0m         \u001b[38;5;28mself\u001b[39m\u001b[38;5;241m.\u001b[39mclose()\n",
      "File \u001b[0;32m~/miniforge3/envs/emit/lib/python3.10/http/client.py:318\u001b[0m, in \u001b[0;36mHTTPResponse.begin\u001b[0;34m(self)\u001b[0m\n\u001b[1;32m    316\u001b[0m \u001b[38;5;66;03m# read until we get a non-100 response\u001b[39;00m\n\u001b[1;32m    317\u001b[0m \u001b[38;5;28;01mwhile\u001b[39;00m \u001b[38;5;28;01mTrue\u001b[39;00m:\n\u001b[0;32m--> 318\u001b[0m     version, status, reason \u001b[38;5;241m=\u001b[39m \u001b[38;5;28;43mself\u001b[39;49m\u001b[38;5;241;43m.\u001b[39;49m\u001b[43m_read_status\u001b[49m\u001b[43m(\u001b[49m\u001b[43m)\u001b[49m\n\u001b[1;32m    319\u001b[0m     \u001b[38;5;28;01mif\u001b[39;00m status \u001b[38;5;241m!=\u001b[39m CONTINUE:\n\u001b[1;32m    320\u001b[0m         \u001b[38;5;28;01mbreak\u001b[39;00m\n",
      "File \u001b[0;32m~/miniforge3/envs/emit/lib/python3.10/http/client.py:279\u001b[0m, in \u001b[0;36mHTTPResponse._read_status\u001b[0;34m(self)\u001b[0m\n\u001b[1;32m    278\u001b[0m \u001b[38;5;28;01mdef\u001b[39;00m \u001b[38;5;21m_read_status\u001b[39m(\u001b[38;5;28mself\u001b[39m):\n\u001b[0;32m--> 279\u001b[0m     line \u001b[38;5;241m=\u001b[39m \u001b[38;5;28mstr\u001b[39m(\u001b[38;5;28;43mself\u001b[39;49m\u001b[38;5;241;43m.\u001b[39;49m\u001b[43mfp\u001b[49m\u001b[38;5;241;43m.\u001b[39;49m\u001b[43mreadline\u001b[49m\u001b[43m(\u001b[49m\u001b[43m_MAXLINE\u001b[49m\u001b[43m \u001b[49m\u001b[38;5;241;43m+\u001b[39;49m\u001b[43m \u001b[49m\u001b[38;5;241;43m1\u001b[39;49m\u001b[43m)\u001b[49m, \u001b[38;5;124m\"\u001b[39m\u001b[38;5;124miso-8859-1\u001b[39m\u001b[38;5;124m\"\u001b[39m)\n\u001b[1;32m    280\u001b[0m     \u001b[38;5;28;01mif\u001b[39;00m \u001b[38;5;28mlen\u001b[39m(line) \u001b[38;5;241m>\u001b[39m _MAXLINE:\n\u001b[1;32m    281\u001b[0m         \u001b[38;5;28;01mraise\u001b[39;00m LineTooLong(\u001b[38;5;124m\"\u001b[39m\u001b[38;5;124mstatus line\u001b[39m\u001b[38;5;124m\"\u001b[39m)\n",
      "File \u001b[0;32m~/miniforge3/envs/emit/lib/python3.10/socket.py:705\u001b[0m, in \u001b[0;36mSocketIO.readinto\u001b[0;34m(self, b)\u001b[0m\n\u001b[1;32m    703\u001b[0m \u001b[38;5;28;01mwhile\u001b[39;00m \u001b[38;5;28;01mTrue\u001b[39;00m:\n\u001b[1;32m    704\u001b[0m     \u001b[38;5;28;01mtry\u001b[39;00m:\n\u001b[0;32m--> 705\u001b[0m         \u001b[38;5;28;01mreturn\u001b[39;00m \u001b[38;5;28;43mself\u001b[39;49m\u001b[38;5;241;43m.\u001b[39;49m\u001b[43m_sock\u001b[49m\u001b[38;5;241;43m.\u001b[39;49m\u001b[43mrecv_into\u001b[49m\u001b[43m(\u001b[49m\u001b[43mb\u001b[49m\u001b[43m)\u001b[49m\n\u001b[1;32m    706\u001b[0m     \u001b[38;5;28;01mexcept\u001b[39;00m timeout:\n\u001b[1;32m    707\u001b[0m         \u001b[38;5;28mself\u001b[39m\u001b[38;5;241m.\u001b[39m_timeout_occurred \u001b[38;5;241m=\u001b[39m \u001b[38;5;28;01mTrue\u001b[39;00m\n",
      "File \u001b[0;32m~/miniforge3/envs/emit/lib/python3.10/ssl.py:1307\u001b[0m, in \u001b[0;36mSSLSocket.recv_into\u001b[0;34m(self, buffer, nbytes, flags)\u001b[0m\n\u001b[1;32m   1303\u001b[0m     \u001b[38;5;28;01mif\u001b[39;00m flags \u001b[38;5;241m!=\u001b[39m \u001b[38;5;241m0\u001b[39m:\n\u001b[1;32m   1304\u001b[0m         \u001b[38;5;28;01mraise\u001b[39;00m \u001b[38;5;167;01mValueError\u001b[39;00m(\n\u001b[1;32m   1305\u001b[0m           \u001b[38;5;124m\"\u001b[39m\u001b[38;5;124mnon-zero flags not allowed in calls to recv_into() on \u001b[39m\u001b[38;5;132;01m%s\u001b[39;00m\u001b[38;5;124m\"\u001b[39m \u001b[38;5;241m%\u001b[39m\n\u001b[1;32m   1306\u001b[0m           \u001b[38;5;28mself\u001b[39m\u001b[38;5;241m.\u001b[39m\u001b[38;5;18m__class__\u001b[39m)\n\u001b[0;32m-> 1307\u001b[0m     \u001b[38;5;28;01mreturn\u001b[39;00m \u001b[38;5;28;43mself\u001b[39;49m\u001b[38;5;241;43m.\u001b[39;49m\u001b[43mread\u001b[49m\u001b[43m(\u001b[49m\u001b[43mnbytes\u001b[49m\u001b[43m,\u001b[49m\u001b[43m \u001b[49m\u001b[43mbuffer\u001b[49m\u001b[43m)\u001b[49m\n\u001b[1;32m   1308\u001b[0m \u001b[38;5;28;01melse\u001b[39;00m:\n\u001b[1;32m   1309\u001b[0m     \u001b[38;5;28;01mreturn\u001b[39;00m \u001b[38;5;28msuper\u001b[39m()\u001b[38;5;241m.\u001b[39mrecv_into(buffer, nbytes, flags)\n",
      "File \u001b[0;32m~/miniforge3/envs/emit/lib/python3.10/ssl.py:1163\u001b[0m, in \u001b[0;36mSSLSocket.read\u001b[0;34m(self, len, buffer)\u001b[0m\n\u001b[1;32m   1161\u001b[0m \u001b[38;5;28;01mtry\u001b[39;00m:\n\u001b[1;32m   1162\u001b[0m     \u001b[38;5;28;01mif\u001b[39;00m buffer \u001b[38;5;129;01mis\u001b[39;00m \u001b[38;5;129;01mnot\u001b[39;00m \u001b[38;5;28;01mNone\u001b[39;00m:\n\u001b[0;32m-> 1163\u001b[0m         \u001b[38;5;28;01mreturn\u001b[39;00m \u001b[38;5;28;43mself\u001b[39;49m\u001b[38;5;241;43m.\u001b[39;49m\u001b[43m_sslobj\u001b[49m\u001b[38;5;241;43m.\u001b[39;49m\u001b[43mread\u001b[49m\u001b[43m(\u001b[49m\u001b[38;5;28;43mlen\u001b[39;49m\u001b[43m,\u001b[49m\u001b[43m \u001b[49m\u001b[43mbuffer\u001b[49m\u001b[43m)\u001b[49m\n\u001b[1;32m   1164\u001b[0m     \u001b[38;5;28;01melse\u001b[39;00m:\n\u001b[1;32m   1165\u001b[0m         \u001b[38;5;28;01mreturn\u001b[39;00m \u001b[38;5;28mself\u001b[39m\u001b[38;5;241m.\u001b[39m_sslobj\u001b[38;5;241m.\u001b[39mread(\u001b[38;5;28mlen\u001b[39m)\n",
      "\u001b[0;31mKeyboardInterrupt\u001b[0m: "
     ]
    }
   ],
   "source": [
    "param_codes = ['32316'] # chla fluorescence\n",
    "param_codes_str = ','.join(param_codes) \n",
    "# state_code = '06' # california\n",
    "state_codes = [f\"{i:02d}\" for i in range(1, 57)]\n",
    "site_types = ['LK', 'ES'] # lakes, estruaries\n",
    "site_list = get_param_sites(param_codes_str, state_codes, site_types)\n",
    "\n",
    "print(site_list.head())"
   ]
  },
  {
   "cell_type": "code",
   "execution_count": 11,
   "id": "e98d5194-a9c7-415b-af8d-83d360550cae",
   "metadata": {},
   "outputs": [],
   "source": [
    "site_list['dec_lat_va'] = pd.to_numeric(site_list['dec_lat_va'], errors='coerce')\n",
    "site_list['dec_long_va'] = pd.to_numeric(site_list['dec_long_va'], errors='coerce')\n",
    "site_list_clean = site_list.dropna(subset=['dec_lat_va', 'dec_long_va'])\n",
    "site_list_surf = site_list_clean[~site_list_clean['station_nm'].str.contains('BOTTOM', case=False, na=False)]\n",
    "#print(len(site_list_clean))\n",
    "app_df = pd.DataFrame()\n",
    "app_df['ID'] = site_list_surf['site_no']  # Using 'site_no' as ID\n",
    "app_df['Category'] = site_list_surf['station_nm']\n",
    "app_df['Latitude'] = site_list_surf['dec_lat_va']\n",
    "app_df['Longitude'] = site_list_surf['dec_long_va']\n",
    "\n",
    "app_df.to_csv('data/chla_sites.csv', index=False)\n"
   ]
  },
  {
   "cell_type": "code",
   "execution_count": 3,
   "id": "6a6b8dfb-e27c-4756-8a8b-fe3a86fa55f3",
   "metadata": {},
   "outputs": [
    {
     "name": "stdout",
     "output_type": "stream",
     "text": [
      "                          Category               ID   Latitude   Longitude  \\\n",
      "0  BLUE RIVER LAKE NEAR BLUE RIVER  441022000000000  44.173194 -122.324222   \n",
      "1  BLUE RIVER LAKE NEAR BLUE RIVER  441022000000000  44.173194 -122.324222   \n",
      "2  BLUE RIVER LAKE NEAR BLUE RIVER  441022000000000  44.173194 -122.324222   \n",
      "3  BLUE RIVER LAKE NEAR BLUE RIVER  441022000000000  44.173194 -122.324222   \n",
      "4  BLUE RIVER LAKE NEAR BLUE RIVER  441022000000000  44.173194 -122.324222   \n",
      "\n",
      "                      Date  Band  wavelength   fwhm  reflectance  \\\n",
      "0  2023-08-12 22:32:34 UTC  B001     381.006  8.415     0.020886   \n",
      "1  2023-08-12 22:32:34 UTC  B002     388.409  8.415     0.021061   \n",
      "2  2023-08-12 22:32:34 UTC  B003     395.816  8.415     0.022508   \n",
      "3  2023-08-12 22:32:34 UTC  B004     403.225  8.415     0.025560   \n",
      "4  2023-08-12 22:32:34 UTC  B005     410.638  8.417     0.027297   \n",
      "\n",
      "   good_wavelengths        elev  \n",
      "0               1.0  369.370332  \n",
      "1               1.0  369.370332  \n",
      "2               1.0  369.370332  \n",
      "3               1.0  369.370332  \n",
      "4               1.0  369.370332  \n"
     ]
    }
   ],
   "source": [
    "\n",
    "spec_df = pd.read_csv('data/sites_spectra.csv', dtype={'ID': str})\n",
    "\n",
    "def fix_id(id_value):\n",
    "    try:\n",
    "        # Check if the ID contains 'E' or 'e' indicating scientific notation\n",
    "        if 'E' in id_value.upper():\n",
    "            # Convert the scientific notation string to a float, then to an integer, then back to a string\n",
    "            id_fixed = str(int(float(id_value)))\n",
    "            return id_fixed\n",
    "        else:\n",
    "            return id_value  # Return the ID as is if it's not in scientific notation\n",
    "    except Exception as e:\n",
    "        print(f\"Error converting ID {id_value}: {e}\")\n",
    "        return id_value  # Return the original value if conversion fails\n",
    "\n",
    "# Apply the function to the 'ID' column\n",
    "spec_df['ID'] = spec_df['ID'].apply(fix_id)\n",
    "\n",
    "# Verify the IDs after conversion\n",
    "print(spec_df.head())"
   ]
  },
  {
   "cell_type": "code",
   "execution_count": null,
   "id": "56d0e82d-fe14-4fcd-a8f8-08ee848fc670",
   "metadata": {},
   "outputs": [],
   "source": []
  },
  {
   "cell_type": "code",
   "execution_count": null,
   "id": "ed2a188e-413c-45a9-ada4-536bed5c7bba",
   "metadata": {},
   "outputs": [],
   "source": []
  },
  {
   "cell_type": "code",
   "execution_count": 4,
   "id": "d773be50-347f-40b1-aa5a-6f44ae249ecc",
   "metadata": {},
   "outputs": [
    {
     "name": "stdout",
     "output_type": "stream",
     "text": [
      "    site_no                  datetime                          station_nm  \\\n",
      "0  11008745  2023-02-04T16:31:21.000Z  MERRIMACK R ESTUARY US OF SHAD CRK   \n",
      "1  11008745  2023-03-30T19:09:11.000Z  MERRIMACK R ESTUARY US OF SHAD CRK   \n",
      "2  11008745  2023-04-03T17:34:58.000Z  MERRIMACK R ESTUARY US OF SHAD CRK   \n",
      "3  11008745  2023-04-07T15:59:59.000Z  MERRIMACK R ESTUARY US OF SHAD CRK   \n",
      "4  11008745  2023-08-12T19:27:43.000Z  MERRIMACK R ESTUARY US OF SHAD CRK   \n",
      "\n",
      "       lat     lon                                            spectra  \n",
      "0  42.8193 -70.839  [{'Band': 'B001', 'wavelength': 381.006, 'refl...  \n",
      "1  42.8193 -70.839  [{'Band': 'B001', 'wavelength': 381.006, 'refl...  \n",
      "2  42.8193 -70.839  [{'Band': 'B001', 'wavelength': 381.006, 'refl...  \n",
      "3  42.8193 -70.839  [{'Band': 'B001', 'wavelength': 381.006, 'refl...  \n",
      "4  42.8193 -70.839  [{'Band': 'B001', 'wavelength': 381.006, 'refl...  \n"
     ]
    }
   ],
   "source": [
    "grouped = spec_df.groupby(['ID', 'Date'])\n",
    "\n",
    "scenes = []\n",
    "\n",
    "for (site_id, date), group in grouped:\n",
    "    # Collect spectral data into a list of dictionaries\n",
    "    spectral_data = group[['Band', 'wavelength', 'reflectance']].to_dict('records')\n",
    "    \n",
    "    # Create a dictionary for the scene\n",
    "    scene = {\n",
    "        'site_no': site_id,\n",
    "        'datetime': date,\n",
    "        'station_nm': group['Category'].iloc[0],\n",
    "        'lat': group['Latitude'].iloc[0],\n",
    "        'lon': group['Longitude'].iloc[0],\n",
    "        'spectra': spectral_data\n",
    "    }\n",
    "    \n",
    "    scenes.append(scene)\n",
    "\n",
    "scenes_df = pd.DataFrame(scenes)\n",
    "\n",
    "scenes_df['datetime'] = pd.to_datetime(scenes_df['datetime'])\n",
    "scenes_df['datetime'] = scenes_df['datetime'].dt.strftime('%Y-%m-%dT%H:%M:%S.000Z')\n",
    "\n",
    "# Display the first few rows\n",
    "print(scenes_df.head())\n",
    "\n"
   ]
  },
  {
   "cell_type": "markdown",
   "id": "522c9974-5a14-43c6-af9a-8ec0e73cfe5e",
   "metadata": {},
   "source": [
    "### 2. Retrieving granules based on site locations\n",
    "Now we have the site list we can use coordinates to search for matching granules. \n",
    "\n",
    "Next setup the granule search and call the function."
   ]
  },
  {
   "cell_type": "code",
   "execution_count": 10,
   "id": "9b617233-065f-485d-9a31-270b87e82e4b",
   "metadata": {},
   "outputs": [
    {
     "name": "stderr",
     "output_type": "stream",
     "text": [
      "Processing sites: 100%|███████████████████████████| 5/5 [00:05<00:00,  1.05s/it]"
     ]
    },
    {
     "name": "stdout",
     "output_type": "stream",
     "text": [
      "    site_no                                      station_nm     site_lat  \\\n",
      "0  11455508  SUISUN BAY A VAN SICKLE ISLAND NR PITTSBURG CA  38.04953056   \n",
      "1  11455508  SUISUN BAY A VAN SICKLE ISLAND NR PITTSBURG CA  38.04953056   \n",
      "2  11455508  SUISUN BAY A VAN SICKLE ISLAND NR PITTSBURG CA  38.04953056   \n",
      "3  11455508  SUISUN BAY A VAN SICKLE ISLAND NR PITTSBURG CA  38.04953056   \n",
      "4  11455508  SUISUN BAY A VAN SICKLE ISLAND NR PITTSBURG CA  38.04953056   \n",
      "\n",
      "     site_lon                                       granule_urls  \\\n",
      "0  -121.88755  [https://data.lpdaac.earthdatacloud.nasa.gov/l...   \n",
      "1  -121.88755  [https://data.lpdaac.earthdatacloud.nasa.gov/l...   \n",
      "2  -121.88755  [https://data.lpdaac.earthdatacloud.nasa.gov/l...   \n",
      "3  -121.88755  [https://data.lpdaac.earthdatacloud.nasa.gov/l...   \n",
      "4  -121.88755  [https://data.lpdaac.earthdatacloud.nasa.gov/l...   \n",
      "\n",
      "                   datetime  \n",
      "0  2023-03-27T23:01:16.000Z  \n",
      "1  2023-05-27T22:53:15.000Z  \n",
      "2  2023-08-07T18:27:32.000Z  \n",
      "3  2023-08-14T22:34:53.000Z  \n",
      "4  2023-08-18T21:00:19.000Z  \n"
     ]
    },
    {
     "name": "stderr",
     "output_type": "stream",
     "text": [
      "\n"
     ]
    }
   ],
   "source": [
    "start_date_dt = dt.datetime.strptime(start_date, '%Y-%m-%d')\n",
    "end_date_dt = dt.datetime.strptime(end_date, '%Y-%m-%d')\n",
    "dt_format = '%Y-%m-%dT%H:%M:%SZ'\n",
    "temporal_str = start_date_dt.strftime(dt_format) + ',' + end_date_dt.strftime(dt_format)\n",
    "\n",
    "\n",
    "site_granules = get_all_site_granules(site_list, temporal_str)\n",
    "df_granules = pd.DataFrame(site_granules)\n",
    "print(df_granules.head())"
   ]
  },
  {
   "cell_type": "code",
   "execution_count": 11,
   "id": "c0db453c-f0ec-49aa-9b56-6c692ac87e9d",
   "metadata": {},
   "outputs": [
    {
     "name": "stdout",
     "output_type": "stream",
     "text": [
      "45\n"
     ]
    }
   ],
   "source": [
    "print(len(df_granules))"
   ]
  },
  {
   "cell_type": "markdown",
   "id": "93c35179-6c90-422d-bdfb-ab5b5dcf0020",
   "metadata": {},
   "source": [
    "### 3. Collecting and matching data base on granule times\n",
    "\n",
    "Next we can use the granule times and locations to collect and match the USGS data. \n",
    "The function will match, with each granule, the closest data time within the time window. \n",
    "\n",
    "Call the function and optionally store as a csv file. "
   ]
  },
  {
   "cell_type": "code",
   "execution_count": 5,
   "id": "5295e8ec-479e-4f65-b500-0c72edaafd43",
   "metadata": {},
   "outputs": [
    {
     "name": "stdout",
     "output_type": "stream",
     "text": [
      "Number of matching IDs: 7 out of 47\n",
      "IDs in scenes_df not found in site_list_clean:\n",
      "['11008745' '1303152' '1304057' '1304562' '1304650' '1310740' '1311143'\n",
      " '292800000000000' '294643000000000' '295826000000000' '300138000000000'\n",
      " '374938000000000' '374949000000000' '374953000000000' '374955000000000'\n",
      " '380631000000000' '380924000000000' '381142000000000' '390148000000000'\n",
      " '400631000000000' '400806000000000' '400853000000000' '401030000000000'\n",
      " '401331000000000' '401428000000000' '411513000000000' '411626000000000'\n",
      " '423223000000000' '423920000000000' '423931000000000' '431533000000000'\n",
      " '431745000000000' '431826000000000' '432004000000000' '432034000000000'\n",
      " '441022000000000' '7380249' '7380251' '73802512' '73802514' '7380260'\n",
      " '7380330' '9013900' '9014500' '9018500' '9041395']\n",
      "0            11455508\n",
      "1     374938122251801\n",
      "2     374949122320101\n",
      "3     374953122314101\n",
      "4     374955122313001\n",
      "           ...       \n",
      "81    444306122144600\n",
      "82    294643095035200\n",
      "83    295826095082200\n",
      "84    445400092462401\n",
      "85    450028092455801\n",
      "Name: ID, Length: 86, dtype: object\n"
     ]
    }
   ],
   "source": [
    "site_list = pd.read_csv('data/chla_sites.csv', dtype={'ID': str})\n",
    "\n",
    "scenes_df['site_no'] = scenes_df['site_no'].astype(str)\n",
    "matching_ids = scenes_df['site_no'].isin(site_list['ID'])\n",
    "num_matching_ids = matching_ids.sum()\n",
    "total_ids = len(scenes_df['site_no'].unique())\n",
    "\n",
    "print(f\"Number of matching IDs: {num_matching_ids} out of {total_ids}\")\n",
    "\n",
    "# Optionally, list IDs that do not match\n",
    "non_matching_ids = scenes_df.loc[~matching_ids, 'site_no'].unique()\n",
    "print(\"IDs in scenes_df not found in site_list_clean:\")\n",
    "print(non_matching_ids)\n",
    "print(site_list['ID'])"
   ]
  },
  {
   "cell_type": "code",
   "execution_count": null,
   "id": "b5146bdc-fdb8-4ce3-841a-83abcc2a745b",
   "metadata": {},
   "outputs": [],
   "source": [
    "results = match_granules(scenes_df, ['32316'])\n",
    "print(len(results))\n",
    "results.to_csv('data/results_chla_app.csv', index=False)"
   ]
  }
 ],
 "metadata": {
  "kernelspec": {
   "display_name": "Python 3 (ipykernel)",
   "language": "python",
   "name": "python3"
  },
  "language_info": {
   "codemirror_mode": {
    "name": "ipython",
    "version": 3
   },
   "file_extension": ".py",
   "mimetype": "text/x-python",
   "name": "python",
   "nbconvert_exporter": "python",
   "pygments_lexer": "ipython3",
   "version": "3.10.14"
  }
 },
 "nbformat": 4,
 "nbformat_minor": 5
}
